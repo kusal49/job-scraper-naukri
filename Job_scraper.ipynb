{
 "cells": [
  {
   "cell_type": "code",
   "execution_count": 17,
   "id": "a60d2a2f-9549-41b9-ae40-d3f86dc14cce",
   "metadata": {},
   "outputs": [
    {
     "name": "stdin",
     "output_type": "stream",
     "text": [
      "Enter the skill to search jobs for (e.g., python, java, data science):  Java\n"
     ]
    },
    {
     "name": "stdout",
     "output_type": "stream",
     "text": [
      "\n",
      "🔍 Searching jobs for: Java\n",
      "\n",
      "✅ Data saved to: output\\Java_jobs_20250617_1203.csv\n"
     ]
    }
   ],
   "source": [
    "import requests\n",
    "from bs4 import BeautifulSoup\n",
    "import pandas as pd\n",
    "import os\n",
    "from datetime import datetime\n",
    "\n",
    "def fetch_jobs(skill):\n",
    "    print(f\"\\n🔍 Searching jobs for: {skill}\")\n",
    "    url = f\"https://www.timesjobs.com/candidate/job-search.html?searchType=personalizedSearch&from=submit&txtKeywords={skill}&txtLocation=\"\n",
    "\n",
    "    response = requests.get(url)\n",
    "    soup = BeautifulSoup(response.text, 'lxml')\n",
    "\n",
    "    job_list = soup.find_all('li', class_='clearfix job-bx wht-shd-bx')\n",
    "    jobs = []\n",
    "\n",
    "    for job in job_list:\n",
    "        date_tag = job.find('span', class_='sim-posted')\n",
    "        posted_date = date_tag.text.strip() if date_tag else \"Not Mentioned\"\n",
    "\n",
    "        if 'few' in posted_date:  # Filter for recently posted jobs\n",
    "            title = job.find('h2').text.strip()\n",
    "            company = job.find('h3', class_='joblist-comp-name').text.strip()\n",
    "            \n",
    "            # Safe location parsing\n",
    "            location = \"Not Available\"\n",
    "            ul_tag = job.find('ul', class_='top-jd-dtl clearfix')\n",
    "            if ul_tag:\n",
    "                li_tags = ul_tag.find_all('li')\n",
    "                if len(li_tags) > 0:\n",
    "                    location = li_tags[0].text.strip()\n",
    "\n",
    "            skills_tag = job.find('span', class_='srp-skills')\n",
    "            skills = skills_tag.text.strip().replace('\\n', '') if skills_tag else \"Not Mentioned\"\n",
    "\n",
    "            jobs.append({\n",
    "                'Title': title,\n",
    "                'Company': company,\n",
    "                'Location': location,\n",
    "                'Skills': skills,\n",
    "                'Posted': posted_date\n",
    "            })\n",
    "\n",
    "    return jobs\n",
    "\n",
    "def save_to_csv(jobs, skill):\n",
    "    if not jobs:\n",
    "        print(\"❌ No jobs found.\")\n",
    "        return\n",
    "\n",
    "    df = pd.DataFrame(jobs)\n",
    "    timestamp = datetime.now().strftime('%Y%m%d_%H%M')\n",
    "    filename = f\"{skill}_jobs_{timestamp}.csv\"\n",
    "    output_dir = \"output\"\n",
    "    os.makedirs(output_dir, exist_ok=True)\n",
    "    filepath = os.path.join(output_dir, filename)\n",
    "    df.to_csv(filepath, index=False)\n",
    "    print(f\"\\n✅ Data saved to: {filepath}\")\n",
    "\n",
    "# ----------- MAIN FUNCTION -----------\n",
    "def run_scraper():\n",
    "    skill = input(\"Enter the skill to search jobs for (e.g., python, java, data science): \")\n",
    "    jobs = fetch_jobs(skill)\n",
    "    save_to_csv(jobs, skill)\n",
    "\n",
    "# Run the project\n",
    "run_scraper()\n"
   ]
  }
 ],
 "metadata": {
  "kernelspec": {
   "display_name": "Python [conda env:base]",
   "language": "python",
   "name": "conda-base-py"
  },
  "language_info": {
   "codemirror_mode": {
    "name": "ipython",
    "version": 3
   },
   "file_extension": ".py",
   "mimetype": "text/x-python",
   "name": "python",
   "nbconvert_exporter": "python",
   "pygments_lexer": "ipython3",
   "version": "3.12.7"
  }
 },
 "nbformat": 4,
 "nbformat_minor": 5
}
